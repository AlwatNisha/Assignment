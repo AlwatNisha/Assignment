{
 "cells": [
  {
   "cell_type": "code",
   "execution_count": 1,
   "id": "556c4c46-81f4-4a2c-86d8-c9327ed46419",
   "metadata": {},
   "outputs": [
    {
     "name": "stdin",
     "output_type": "stream",
     "text": [
      "Enter your number: 0\n"
     ]
    },
    {
     "name": "stdout",
     "output_type": "stream",
     "text": [
      "Number is zero.\n"
     ]
    }
   ],
   "source": [
    "# Q:4\n",
    "y=float(input(\"Enter your number:\"))\n",
    "if y > 0:\n",
    "    print(\"Number is positive.\")\n",
    "elif y < 0:\n",
    "    print(\"Number is negative.\")\n",
    "else:\n",
    "    print(\"Number is zero.\")"
   ]
  },
  {
   "cell_type": "code",
   "execution_count": 10,
   "id": "711214c5-daa0-489b-847a-59adae6d0539",
   "metadata": {},
   "outputs": [
    {
     "name": "stdout",
     "output_type": "stream",
     "text": [
      "40320\n",
      "120\n",
      "\n"
     ]
    },
    {
     "data": {
      "text/plain": [
       "40320"
      ]
     },
     "execution_count": 10,
     "metadata": {},
     "output_type": "execute_result"
    }
   ],
   "source": [
    "#Q:5\n",
    "def fact(a):\n",
    "    r=1\n",
    "    for h in range(1,a+1):\n",
    "        r*=h\n",
    "    return r\n",
    "\n",
    "print(fact(8))\n",
    "print(fact(5))\n",
    "print()\n",
    "import math\n",
    "math.factorial(8)"
   ]
  },
  {
   "cell_type": "code",
   "execution_count": 4,
   "id": "e096baa5-56dd-4068-b5d2-7ab122dfc712",
   "metadata": {},
   "outputs": [
    {
     "name": "stdin",
     "output_type": "stream",
     "text": [
      "Enter the range (maximum number):  20\n"
     ]
    },
    {
     "name": "stdout",
     "output_type": "stream",
     "text": [
      "Fibonacci series up to 20 :\n",
      "0 1 1 2 3 5 8 13 "
     ]
    }
   ],
   "source": [
    "#Q:6\n",
    "n = int(input(\"Enter the range (maximum number): \"))\n",
    "a, b = 0, 1\n",
    "print(\"Fibonacci series up to\", n, \":\")\n",
    "while a <= n:\n",
    "    print(a, end=\" \")\n",
    "    a, b = b, a + b\n"
   ]
  },
  {
   "cell_type": "code",
   "execution_count": 9,
   "id": "07ecceb2-1a4f-4585-b273-3b585dd3b241",
   "metadata": {},
   "outputs": [
    {
     "name": "stdin",
     "output_type": "stream",
     "text": [
      "enter your number (a): 8\n",
      "enter your number (b): 9\n"
     ]
    },
    {
     "name": "stdout",
     "output_type": "stream",
     "text": [
      "with temp (a): 9\n",
      "with temp (b): 8\n"
     ]
    },
    {
     "name": "stdin",
     "output_type": "stream",
     "text": [
      "enter your number (a): 7\n",
      "enter your number (b): 5\n"
     ]
    },
    {
     "name": "stdout",
     "output_type": "stream",
     "text": [
      "without temp (a): 5\n",
      "without temp (b): 7\n"
     ]
    }
   ],
   "source": [
    "#Q:9 with temporary variable.\n",
    "a=int(input(\"enter your number (a):\"))\n",
    "b=int(input(\"enter your number (b):\"))\n",
    "temp=a\n",
    "a=b\n",
    "b=temp\n",
    "print(\"with temp (a):\",a)\n",
    "print(\"with temp (b):\",b)\n",
    "\n",
    "# without temporary variable.\n",
    "a=int(input(\"enter your number (a):\"))\n",
    "b=int(input(\"enter your number (b):\"))\n",
    "a,b=b,a\n",
    "print(\"without temp (a):\",a)\n",
    "print(\"without temp (b):\",b)\n"
   ]
  },
  {
   "cell_type": "code",
   "execution_count": 18,
   "id": "d74ea91e-6e56-422f-901a-9cf93361bf48",
   "metadata": {},
   "outputs": [
    {
     "name": "stdin",
     "output_type": "stream",
     "text": [
      "enter your number: 5\n"
     ]
    },
    {
     "name": "stdout",
     "output_type": "stream",
     "text": [
      "your number is odd.\n"
     ]
    }
   ],
   "source": [
    "#Q:10\n",
    "t=int(input(\"enter your number:\"))\n",
    "if t%2==0:\n",
    "    print(\"your number is even.\")\n",
    "else:\n",
    "    print(\"your number is odd.\")"
   ]
  },
  {
   "cell_type": "code",
   "execution_count": 46,
   "id": "9241abbb-e6b5-4b87-bf27-d801ced333d1",
   "metadata": {},
   "outputs": [
    {
     "name": "stdin",
     "output_type": "stream",
     "text": [
      "enter your letter: a\n"
     ]
    },
    {
     "name": "stdout",
     "output_type": "stream",
     "text": [
      "the letter is a vowel.\n"
     ]
    }
   ],
   "source": [
    "#Q:11\n",
    "q=(input(\"enter your letter:\")).lower()\n",
    "if len(q)==1 and q.isalpha():\n",
    "    if q in[\"a\",\"e\",\"i\",\"o\",\"u\"]:\n",
    "        print(\"the letter is a vowel.\")\n",
    "    else:\n",
    "        print(\"the letter is not vowel.\")"
   ]
  },
  {
   "cell_type": "code",
   "execution_count": 55,
   "id": "259a77b6-d054-466c-a7db-26fa08924039",
   "metadata": {},
   "outputs": [
    {
     "name": "stdin",
     "output_type": "stream",
     "text": [
      "enter your number: 8\n",
      "enter your number: 5\n",
      "enter your number: 5\n"
     ]
    },
    {
     "name": "stdout",
     "output_type": "stream",
     "text": [
      "the sum is: 0\n"
     ]
    }
   ],
   "source": [
    "#Q:12\n",
    "w=int(input(\"enter your number:\"))\n",
    "a=int(input(\"enter your number:\"))\n",
    "z=int(input(\"enter your number:\"))\n",
    "\n",
    "if w==a or w==z or a==z:\n",
    "    print(\"the sum is:\",0)\n",
    "else:\n",
    "    print(\"the sum is:\",w+a+z)\n",
    "            "
   ]
  },
  {
   "cell_type": "code",
   "execution_count": 62,
   "id": "c2b28a15-a83e-4326-b063-5da268c24295",
   "metadata": {},
   "outputs": [
    {
     "name": "stdin",
     "output_type": "stream",
     "text": [
      "enter first number: 10\n",
      "enter secoand number: 5\n"
     ]
    },
    {
     "name": "stdout",
     "output_type": "stream",
     "text": [
      "True\n"
     ]
    }
   ],
   "source": [
    "#Q:13\n",
    "m=int(input(\"enter first number:\"))\n",
    "n=int(input(\"enter secoand number:\"))\n",
    "if m==n or (m+n==5) or (m-n==5):\n",
    "    print(True)\n",
    "else:\n",
    "    print(False)"
   ]
  },
  {
   "cell_type": "code",
   "execution_count": 65,
   "id": "96170a63-3047-442a-a4b4-3e2d38c1de71",
   "metadata": {},
   "outputs": [
    {
     "name": "stdin",
     "output_type": "stream",
     "text": [
      "enter your number: 20\n"
     ]
    },
    {
     "name": "stdout",
     "output_type": "stream",
     "text": [
      "sum of first 20 positive interger is 210\n"
     ]
    }
   ],
   "source": [
    "#Q:14\n",
    "n=int(input(\"enter your number:\"))\n",
    "total=0\n",
    "for i in range(1,n+1):\n",
    "    total+=i\n",
    "print(\"sum of first\",n,\"positive interger is\",total)"
   ]
  },
  {
   "cell_type": "code",
   "execution_count": 79,
   "id": "2949e5a9-dcde-4d7c-b4a6-163e3f42b4b9",
   "metadata": {},
   "outputs": [
    {
     "name": "stdout",
     "output_type": "stream",
     "text": [
      "charachter frequency:\n",
      "'h',1\n",
      "'e',1\n",
      "'l',2\n",
      "'o',4\n",
      "'.',3\n",
      "'g',2\n",
      "'d',1\n",
      "' ',1\n",
      "'m',1\n",
      "'r',1\n",
      "'n',2\n",
      "'i',1\n"
     ]
    }
   ],
   "source": [
    "#Q:16\n",
    "text=\"hello..good morning.\"\n",
    "t={}\n",
    "for g in text:\n",
    "    if g in t:\n",
    "        t[g]+=1\n",
    "    else:\n",
    "        t[g]=1\n",
    "print(\"charachter frequency:\")\n",
    "for g,count in t.items():\n",
    "    print(\"'{}',{}\".format(g,count))"
   ]
  },
  {
   "cell_type": "code",
   "execution_count": 1,
   "id": "8e609a54-327d-4a76-b95f-4e08bf680cfc",
   "metadata": {},
   "outputs": [
    {
     "data": {
      "text/plain": [
       "2"
      ]
     },
     "execution_count": 1,
     "metadata": {},
     "output_type": "execute_result"
    }
   ],
   "source": [
    "#Q:18\n",
    "j=\"hello world,hello universe.\"\n",
    "j.count(\"hello\")"
   ]
  },
  {
   "cell_type": "code",
   "execution_count": 2,
   "id": "91d1f5b1-12de-4f48-952e-e109b6f96d40",
   "metadata": {},
   "outputs": [
    {
     "name": "stdout",
     "output_type": "stream",
     "text": [
      "'python',2\n",
      "'is',1\n",
      "'easy',1\n",
      "'to',2\n",
      "'learn',1\n",
      "'and',1\n",
      "'fun',1\n",
      "'use.',1\n"
     ]
    }
   ],
   "source": [
    "#Q:19\n",
    "j=\"python is easy to learn and python fun to use.\"\n",
    "i=j.split()\n",
    "f={}\n",
    "for k in i:\n",
    "    if k in f:\n",
    "        f[k]+=1\n",
    "    else:\n",
    "        f[k]=1\n",
    "for k,count in f.items():\n",
    "    print(\"'{}',{}\".format(k,count))"
   ]
  },
  {
   "cell_type": "code",
   "execution_count": 1,
   "id": "cb687f85-27a0-4eb2-8af2-016e31e4511e",
   "metadata": {},
   "outputs": [
    {
     "name": "stdout",
     "output_type": "stream",
     "text": [
      "wollo herld\n"
     ]
    }
   ],
   "source": [
    "#Q:20\n",
    "def swap(str1,str2):\n",
    "    a,b=str1[:2],str1[2:]\n",
    "    c,d=str2[:2],str2[2:]\n",
    "    a,c=c,a\n",
    "    return \"{}{} {}{}\".format(a, b, c, d)\n",
    "r=\"hello\"\n",
    "b=\"world\"\n",
    "print(swap(r,b))"
   ]
  },
  {
   "cell_type": "code",
   "execution_count": 17,
   "id": "39206115-8aed-45e4-a8ea-fa92f020c8a7",
   "metadata": {},
   "outputs": [
    {
     "name": "stdout",
     "output_type": "stream",
     "text": [
      "playin\n",
      "playingly\n",
      "go\n"
     ]
    }
   ],
   "source": [
    "#Q:21\n",
    "def string(t):\n",
    "    if len(t)<3:\n",
    "        return t\n",
    "    elif t.endswith(\"ing\"):\n",
    "        return t+\"ly\"\n",
    "    else:\n",
    "        return t+\"in\"\n",
    "print(string(\"play\"))\n",
    "print(string(\"playing\"))\n",
    "print(string(\"go\"))"
   ]
  },
  {
   "cell_type": "code",
   "execution_count": 25,
   "id": "9a0962dc-7b21-414b-bb17-b6fd30ac58fe",
   "metadata": {},
   "outputs": [
    {
     "name": "stdout",
     "output_type": "stream",
     "text": [
      "dcba\n",
      "hello\n",
      "hgfedcba\n"
     ]
    }
   ],
   "source": [
    "#Q:22\n",
    "def reverse(t):\n",
    "    if len(t) % 4 == 0:\n",
    "        return t[::-1]\n",
    "    else:\n",
    "        return t\n",
    "print(reverse(\"abcd\"))    \n",
    "print(reverse(\"hello\"))     \n",
    "print(reverse(\"abcdefgh\"))  \n"
   ]
  },
  {
   "cell_type": "code",
   "execution_count": 4,
   "id": "aff22d3d-6419-4a60-816b-4424baa62251",
   "metadata": {},
   "outputs": [
    {
     "name": "stdin",
     "output_type": "stream",
     "text": [
      "enter your latters: python\n"
     ]
    },
    {
     "name": "stdout",
     "output_type": "stream",
     "text": [
      "pyon\n"
     ]
    }
   ],
   "source": [
    "#Q:23\n",
    "c=input(\"enter your latters:\")\n",
    "if len(c)<2:\n",
    "    print(\"\")\n",
    "else:\n",
    "    print (c[:2]+c[-2:])"
   ]
  },
  {
   "cell_type": "code",
   "execution_count": 11,
   "id": "47d0e1c6-4cee-4a71-9fc2-b4bb5c572e5e",
   "metadata": {},
   "outputs": [
    {
     "name": "stdout",
     "output_type": "stream",
     "text": [
      "my name is python and i'm from surat\n"
     ]
    }
   ],
   "source": [
    "#Q:24\n",
    "b=\"my name {} and i'm from {}\".format(\"is python\",\"surat\")\n",
    "print(b)"
   ]
  },
  {
   "cell_type": "code",
   "execution_count": 17,
   "id": "aa7d2106-74e9-432e-9804-2559402d927b",
   "metadata": {},
   "outputs": [
    {
     "name": "stdout",
     "output_type": "stream",
     "text": [
      "maximum: 41\n",
      "minimum: 1\n",
      "sum: 95\n"
     ]
    }
   ],
   "source": [
    "#Q:29\n",
    "r=[1,41,7,8,9,25,4]\n",
    "print(\"maximum:\",max(r))\n",
    "print(\"minimum:\",min(r))\n",
    "print(\"sum:\",sum(r))"
   ]
  },
  {
   "cell_type": "code",
   "execution_count": 29,
   "id": "1d6c4cd3-6eeb-4df1-a279-0457b7f0c1ca",
   "metadata": {},
   "outputs": [
    {
     "name": "stdin",
     "output_type": "stream",
     "text": [
      "enter your sentance: avaca\n"
     ]
    },
    {
     "name": "stdout",
     "output_type": "stream",
     "text": [
      "5\n"
     ]
    }
   ],
   "source": [
    "#Q:31\n",
    "k=input(\"enter your sentance:\")\n",
    "count=0\n",
    "for h in k:\n",
    "    if len(k)>=2 and k[0]==k[-1]:\n",
    "        count+=1\n",
    "print(count)"
   ]
  },
  {
   "cell_type": "code",
   "execution_count": 30,
   "id": "ce924851-1f89-479f-8a05-542f980b1ea9",
   "metadata": {},
   "outputs": [
    {
     "name": "stdout",
     "output_type": "stream",
     "text": [
      "[1, 2, 4, 7, 8, 9]\n"
     ]
    }
   ],
   "source": [
    "#Q:32\n",
    "v=[1,2,4,8,7,4,8,9,1,2]\n",
    "d=list(set(v))\n",
    "print(d)"
   ]
  },
  {
   "cell_type": "code",
   "execution_count": 32,
   "id": "6e7877d5-0f43-4231-81ac-4c57a68102d1",
   "metadata": {},
   "outputs": [
    {
     "name": "stdout",
     "output_type": "stream",
     "text": [
      "list is empty.\n"
     ]
    }
   ],
   "source": [
    "#Q:33\n",
    "s=[]\n",
    "if len(s)==0:\n",
    "    print(\"list is empty.\")\n",
    "else:\n",
    "    print(\"list is not empty.\")"
   ]
  },
  {
   "cell_type": "code",
   "execution_count": 42,
   "id": "ba07016c-7f60-4dba-b012-af00b094e3dc",
   "metadata": {},
   "outputs": [
    {
     "name": "stdout",
     "output_type": "stream",
     "text": [
      "True\n"
     ]
    }
   ],
   "source": [
    "#Q:34\n",
    "g=[\"pink\",\"red\",\"blue\"]\n",
    "f=[\"blue\",\"green\",\"yellow\"]\n",
    "if h in g:\n",
    "    if h in f:\n",
    "        print(True)\n",
    "    else:\n",
    "        print(\"not found\")\n",
    "    "
   ]
  },
  {
   "cell_type": "code",
   "execution_count": 46,
   "id": "360654de-29f0-496e-b5e9-f19088fdafc6",
   "metadata": {},
   "outputs": [
    {
     "name": "stdout",
     "output_type": "stream",
     "text": [
      "first 5: [1, 4, 9, 16, 25]\n",
      "last 5: [676, 729, 784, 841, 900]\n"
     ]
    }
   ],
   "source": [
    "#Q:35\n",
    "e= [i**2 for i in range(1,31)]\n",
    "print(\"first 5:\",e[:5])\n",
    "print(\"last 5:\",e[-5:])"
   ]
  },
  {
   "cell_type": "code",
   "execution_count": 51,
   "id": "0218eb8a-a909-4072-a692-e248c978914e",
   "metadata": {},
   "outputs": [
    {
     "name": "stdout",
     "output_type": "stream",
     "text": [
      "[1, 8, 2, 6, 4, 5, 9]\n"
     ]
    }
   ],
   "source": [
    "#Q:36\n",
    "b=[1,8,2,6,2,4,4,8,5,9]\n",
    "k=[]\n",
    "for m in b:\n",
    "    if m not in k:\n",
    "        k.append(m)\n",
    "print(k)"
   ]
  },
  {
   "cell_type": "code",
   "execution_count": 56,
   "id": "0f3fdb35-e44f-46ff-84a9-c82e1ba7fb35",
   "metadata": {},
   "outputs": [
    {
     "name": "stdout",
     "output_type": "stream",
     "text": [
      "my name is python\n"
     ]
    }
   ],
   "source": [
    "#Q:37\n",
    "b=[\"my\",\"name\",\"is\",\"python\"]\n",
    "i=\" \".join(b)\n",
    "print(i)"
   ]
  },
  {
   "cell_type": "code",
   "execution_count": 60,
   "id": "5f1aad78-07a8-4714-8756-20cd26628ebc",
   "metadata": {},
   "outputs": [
    {
     "name": "stdout",
     "output_type": "stream",
     "text": [
      "1\n"
     ]
    }
   ],
   "source": [
    "#Q:38\n",
    "import random\n",
    "n=[1,2,8,9,7,5,6]\n",
    "t= random.choice(n)\n",
    "print(t)"
   ]
  },
  {
   "cell_type": "code",
   "execution_count": 68,
   "id": "f50be7e8-dee0-4f21-806e-25a1b164f1bc",
   "metadata": {},
   "outputs": [
    {
     "name": "stdout",
     "output_type": "stream",
     "text": [
      "[1, 2, 3, 4, 5]\n",
      "second smallest: 2\n"
     ]
    }
   ],
   "source": [
    "#Q:39\n",
    "d=[1,4,5,3,2,1,2]\n",
    "set(d)\n",
    "g=list(set(d))\n",
    "print(g)\n",
    "print(\"second smallest:\",g[1])"
   ]
  },
  {
   "cell_type": "code",
   "execution_count": 70,
   "id": "8987d51b-0e60-435a-b83d-4575f4b0dee3",
   "metadata": {},
   "outputs": [
    {
     "name": "stdout",
     "output_type": "stream",
     "text": [
      "['yellow', 'red', 'black', 'pink']\n"
     ]
    }
   ],
   "source": [
    "#Q:40\n",
    "v=[\"pink\",\"red\",\"yellow\",\"pink\",\"red\",\"yellow\",\"black\"]\n",
    "f=list(set(v))\n",
    "print(f)"
   ]
  },
  {
   "cell_type": "code",
   "execution_count": 63,
   "id": "1c329fde-13ed-489d-bec7-5f70e508b367",
   "metadata": {},
   "outputs": [
    {
     "name": "stdout",
     "output_type": "stream",
     "text": [
      "this list contain sublist.\n"
     ]
    }
   ],
   "source": [
    "#Q:41\n",
    "h=[1,2,33,7,8,9,4,5]\n",
    "n=[8,9,4]\n",
    "if str(n)[1:-1] in str(h):\n",
    "    print(\"this list contain sublist.\")\n",
    "else:\n",
    "    print(\"this list does not contain sublist.\")"
   ]
  },
  {
   "cell_type": "code",
   "execution_count": 73,
   "id": "f6dad501-8602-4681-bb80-e925d7820a8e",
   "metadata": {},
   "outputs": [
    {
     "name": "stdout",
     "output_type": "stream",
     "text": [
      "hi\n",
      "jk\n",
      "lm\n",
      "op\n"
     ]
    }
   ],
   "source": [
    "#Q:42\n",
    "g=[\"hi\",\"jk\",\"lm\",\"op\"]\n",
    "a,b,c,d=g\n",
    "print(a)\n",
    "print(b)\n",
    "print(c)\n",
    "print(d)"
   ]
  },
  {
   "cell_type": "code",
   "execution_count": 76,
   "id": "4db360de-aa5e-4e78-bfb3-4863f6e4a167",
   "metadata": {},
   "outputs": [
    {
     "name": "stdin",
     "output_type": "stream",
     "text": [
      "enter your name: nisha\n",
      "enter your age: 21\n",
      "enter your height: 5.5\n"
     ]
    },
    {
     "name": "stdout",
     "output_type": "stream",
     "text": [
      "student: ('nisha', 21, 5.5)\n"
     ]
    }
   ],
   "source": [
    "#Q:44\n",
    "name=input(\"enter your name:\")\n",
    "age=int(input(\"enter your age:\"))\n",
    "height=float(input(\"enter your height:\"))\n",
    "student=(name,age,height)\n",
    "print(\"student:\",student)"
   ]
  },
  {
   "cell_type": "code",
   "execution_count": 22,
   "id": "c9712302-41d9-4648-b7b9-69c32ef1d198",
   "metadata": {},
   "outputs": [
    {
     "name": "stdout",
     "output_type": "stream",
     "text": [
      "[1, 4, 7]\n",
      "[2, 5, 8]\n",
      "[3, 6, 9]\n"
     ]
    }
   ],
   "source": [
    "#Q:45\n",
    "m=[(1,2,3),(4,5,6),(7,8,9)]\n",
    "a,b,c=zip(*name)\n",
    "print(list(a))\n",
    "print(list(b))\n",
    "print(list(c))"
   ]
  },
  {
   "cell_type": "code",
   "execution_count": 19,
   "id": "82d60647-12b4-4b3a-86fe-733e37718fac",
   "metadata": {},
   "outputs": [
    {
     "name": "stdout",
     "output_type": "stream",
     "text": [
      "{'a': 2, 's': 5, 'h': 8}\n"
     ]
    }
   ],
   "source": [
    "#Q:46\n",
    "o=[(\"a\",2),(\"s\",5),(\"h\",8)]\n",
    "a=dict(o)\n",
    "print(a)"
   ]
  },
  {
   "cell_type": "code",
   "execution_count": 24,
   "id": "28c037a6-6f26-45c1-b679-e9c4ede88438",
   "metadata": {},
   "outputs": [
    {
     "data": {
      "text/plain": [
       "{'name:': 'nisha', 'age:': 21, 'city:': 'ahemedabad'}"
      ]
     },
     "execution_count": 24,
     "metadata": {},
     "output_type": "execute_result"
    }
   ],
   "source": [
    "#Q:47\n",
    "v=((\"name:\",\"nisha\"),(\"age:\",21),(\"city:\",\"ahemedabad\"))\n",
    "dict(v)"
   ]
  },
  {
   "cell_type": "code",
   "execution_count": 44,
   "id": "158e4c03-31f5-4bd8-8315-f2e616969614",
   "metadata": {},
   "outputs": [
    {
     "name": "stdout",
     "output_type": "stream",
     "text": [
      "ascending: {'b': 2, 'a': 5, 'd': 8, 'c': 9}\n",
      "descending: {'c': 9, 'd': 8, 'a': 5, 'b': 2}\n"
     ]
    }
   ],
   "source": [
    "#Q:48\n",
    "students={\"a\":5,\"b\":2,\"c\":9,\"d\":8}\n",
    "v=dict(sorted(students.items(),key=lambda item:item[1])) \n",
    "t=dict(sorted(students.items(),key=lambda item:item[1], reverse=True)) \n",
    "print(\"ascending:\",v)\n",
    "print(\"descending:\",t)"
   ]
  },
  {
   "cell_type": "code",
   "execution_count": 1,
   "id": "68a3d679-e9c3-4bf3-9503-18ba824dc9aa",
   "metadata": {},
   "outputs": [
    {
     "name": "stdout",
     "output_type": "stream",
     "text": [
      "{'name': 'a', 'id': 123, 'name2': 'b', 'id2': 456}\n"
     ]
    }
   ],
   "source": [
    "#Q:49\n",
    "employee1={\"name\":\"a\",\"id\":123}\n",
    "employee2={\"name2\":\"b\",\"id2\":456}\n",
    "concatenate={**employee1,**employee2}\n",
    "print(concatenate)"
   ]
  },
  {
   "cell_type": "code",
   "execution_count": 56,
   "id": "132fedfb-a985-42cf-853f-2fafe9cf5a8b",
   "metadata": {},
   "outputs": [
    {
     "name": "stdout",
     "output_type": "stream",
     "text": [
      "yes, sharma exists.\n"
     ]
    }
   ],
   "source": [
    "#Q:50\n",
    "employees={\"shiv\":\"manager\",\"id1\":789,\n",
    "           \"shashtri\":\"accountant\",\"id2\":741,\n",
    "           \"sharma\":\"marketing\",\"id3\":897}\n",
    "if \"shashtri\" in employees:\n",
    "    print(\"yes, sharma exists.\")\n",
    "else:\n",
    "    print(\"no, sharma dose not exists.\")"
   ]
  },
  {
   "cell_type": "code",
   "execution_count": 57,
   "id": "16628cda-6b3e-408f-931f-c964108847aa",
   "metadata": {},
   "outputs": [
    {
     "name": "stdout",
     "output_type": "stream",
     "text": [
      "name = john\n",
      "age = 21\n"
     ]
    }
   ],
   "source": [
    "#Q:51\n",
    "student={\"name\":\"john\",\"age\":21}\n",
    "for key,value in student.items():\n",
    "    print(key, \"=\",value)"
   ]
  },
  {
   "cell_type": "code",
   "execution_count": 60,
   "id": "20157a71-7b84-4a7f-9aa1-bc0666de242b",
   "metadata": {},
   "outputs": [
    {
     "name": "stdout",
     "output_type": "stream",
     "text": [
      "{1: 2, 2: 3, 3: 4, 4: 5, 5: 6, 6: 7, 7: 8, 8: 9, 9: 10, 10: 11, 11: 12, 12: 13, 13: 14, 14: 15}\n"
     ]
    }
   ],
   "source": [
    "#Q:53\n",
    "w={num:num+1 for num in range(1,15)}\n",
    "print(w)"
   ]
  },
  {
   "cell_type": "code",
   "execution_count": 69,
   "id": "43266d04-c80c-4656-812a-fa3e5a5e452a",
   "metadata": {},
   "outputs": [
    {
     "name": "stdout",
     "output_type": "stream",
     "text": [
      "yes, they exists.\n"
     ]
    }
   ],
   "source": [
    "#Q:54\n",
    "employees={\"shiv\":\"manager\",\"id1\":789,\n",
    "           \"shashtri\":\"accountant\",\"id2\":741,\n",
    "           \"sharma\":\"marketing\",\"id3\":897,\n",
    "           \"verma\":\"finance\",\"id4\":7533}\n",
    "if \"shiv\" in employees and \"sharma\" in employees:\n",
    "    print(\"yes, they exists.\")\n",
    "else:\n",
    "    print(\"no, they not exists.\")"
   ]
  },
  {
   "cell_type": "code",
   "execution_count": 3,
   "id": "98c01ffc-06dc-46a8-b624-958ca33689a9",
   "metadata": {},
   "outputs": [
    {
     "name": "stdout",
     "output_type": "stream",
     "text": [
      "{'x': 10, 'j': 20, 'y': 30, 'z': 40}\n"
     ]
    }
   ],
   "source": [
    "#Q:55\n",
    "dict1={'x': 10, 'j': 20}\n",
    "dict2={'y': 30, 'z': 40}\n",
    "merge={**dict1,**dict2}\n",
    "print(merge)"
   ]
  },
  {
   "cell_type": "code",
   "execution_count": 10,
   "id": "a19e7308-ba0a-4526-87db-e4ecc9f3f8ae",
   "metadata": {},
   "outputs": [
    {
     "name": "stdout",
     "output_type": "stream",
     "text": [
      "{'a:': 100, 'b:': 200, 'c:': 300, 'd:': 400}\n"
     ]
    }
   ],
   "source": [
    "#Q:56\n",
    "list1=[\"a:\",\"b:\",\"c:\",\"d:\"]\n",
    "list2=[100,200,300,400]\n",
    "r=dict(zip(list1,list2))\n",
    "print(r)"
   ]
  },
  {
   "cell_type": "code",
   "execution_count": 14,
   "id": "9ec0480d-2d2b-41fd-9946-986d3dedfb35",
   "metadata": {},
   "outputs": [
    {
     "name": "stdout",
     "output_type": "stream",
     "text": [
      "[('b', 500), ('c', 200), ('a', 150)]\n"
     ]
    }
   ],
   "source": [
    "#Q:57\n",
    "dict1={\"a\":150,\"b\":500,\"c\":200,\"d\":100,\"e\":50}\n",
    "highest=sorted(dict1.items(), key=lambda item: item[1], reverse=True)[:3]\n",
    "print(highest)"
   ]
  },
  {
   "cell_type": "code",
   "execution_count": 16,
   "id": "b2cfe1a4-32eb-4f14-abb3-654702496bec",
   "metadata": {},
   "outputs": [
    {
     "name": "stdout",
     "output_type": "stream",
     "text": [
      "[{'item': 'item1', 'amount': 1150}, {'item': 'item2', 'amount': 300}]\n"
     ]
    }
   ],
   "source": [
    "#Q:58\n",
    "data= [{'item': 'item1', 'amount': 400}, {'item': 'item2', 'amount':300},{'item': 'item1', 'amount': 750}] \n",
    "y={}\n",
    "for z in data:\n",
    "    item = z['item']\n",
    "    amount = z['amount']\n",
    "    \n",
    "    if item in y:\n",
    "        y[item] += amount\n",
    "    else:\n",
    "        y[item] = amount\n",
    "combained=[{'item': k, 'amount': v} for k, v in y.items()]\n",
    "print(combained)"
   ]
  },
  {
   "cell_type": "code",
   "execution_count": 17,
   "id": "d0d12947-179b-45a4-a6ab-72f795c6fadd",
   "metadata": {},
   "outputs": [
    {
     "name": "stdout",
     "output_type": "stream",
     "text": [
      "{'h': 1, 'e': 1, 'l': 3, 'o': 2, ' ': 1, 'w': 1, 'r': 1, 'd': 1}\n"
     ]
    }
   ],
   "source": [
    "#Q:59\n",
    "text=\"hello world\"\n",
    "counts={}\n",
    "for i in text:\n",
    "    if i in counts:\n",
    "        counts[i]+=1\n",
    "    else:\n",
    "        counts[i]=1\n",
    "print(counts)"
   ]
  },
  {
   "cell_type": "code",
   "execution_count": 21,
   "id": "c91c8a3e-1a54-48c5-a685-74bb19046abc",
   "metadata": {},
   "outputs": [
    {
     "data": {
      "text/plain": [
       "24"
      ]
     },
     "execution_count": 21,
     "metadata": {},
     "output_type": "execute_result"
    }
   ],
   "source": [
    "#Q:61\n",
    "import math\n",
    "math.factorial(4)"
   ]
  },
  {
   "cell_type": "code",
   "execution_count": 31,
   "id": "415c0599-6308-4f42-86e6-302654971618",
   "metadata": {},
   "outputs": [
    {
     "name": "stdin",
     "output_type": "stream",
     "text": [
      "enter your number: 40\n"
     ]
    },
    {
     "name": "stdout",
     "output_type": "stream",
     "text": [
      "number is in the range.\n"
     ]
    }
   ],
   "source": [
    "#Q:62\n",
    "k=int(input(\"enter your number:\"))\n",
    "if k not in range(1,70):\n",
    "    print(\"number is out of the range.\")\n",
    "else:\n",
    "    print(\"number is in the range.\")"
   ]
  },
  {
   "cell_type": "code",
   "execution_count": 45,
   "id": "a855aed7-fe38-42e5-acab-a8a95a3245d0",
   "metadata": {},
   "outputs": [
    {
     "name": "stdin",
     "output_type": "stream",
     "text": [
      "enter your number: 15\n"
     ]
    },
    {
     "name": "stdout",
     "output_type": "stream",
     "text": [
      "no, its not perfect number.\n"
     ]
    }
   ],
   "source": [
    "#Q:63\n",
    "n=int(input(\"enter your number:\"))\n",
    "t=0\n",
    "for i in range(1,n):\n",
    "    if n%i==0:\n",
    "        t+=i\n",
    "if t==n:\n",
    "    print(\"yes, it is perfect number.\")\n",
    "else:\n",
    "    print(\"no, its not perfect number.\")"
   ]
  },
  {
   "cell_type": "code",
   "execution_count": 51,
   "id": "53dad744-ff7a-4980-b47e-7b54d7f1f0cc",
   "metadata": {},
   "outputs": [
    {
     "name": "stdin",
     "output_type": "stream",
     "text": [
      "enter your text: level\n"
     ]
    },
    {
     "name": "stdout",
     "output_type": "stream",
     "text": [
      "yes, this string is palindrome.\n"
     ]
    }
   ],
   "source": [
    "#Q:64\n",
    "text=input(\"enter your text:\")\n",
    "if text==text[::-1]:\n",
    "    print(\"yes, this string is palindrome.\")\n",
    "else:\n",
    "    print(\"no, this string is not palindrome.\")"
   ]
  },
  {
   "cell_type": "code",
   "execution_count": 21,
   "id": "a931f327-45a9-4070-a7b7-8c3dacad5a8c",
   "metadata": {},
   "outputs": [
    {
     "name": "stdout",
     "output_type": "stream",
     "text": [
      "  hello world\n",
      "  hello python\n",
      "\n"
     ]
    }
   ],
   "source": [
    "#Q:72\n",
    "d=open(\"abcde.txt\")\n",
    "print(d.read())"
   ]
  },
  {
   "cell_type": "code",
   "execution_count": 22,
   "id": "79ce4ea3-0fae-486e-9e80-64eca50913b0",
   "metadata": {},
   "outputs": [
    {
     "name": "stdout",
     "output_type": "stream",
     "text": [
      "  hello world\n",
      "  hello python\n",
      "  good morning\n"
     ]
    }
   ],
   "source": [
    "#Q:73\n",
    "d=open(\"abcde.txt\",\"a\")\n",
    "d.write(\"  good morning\")\n",
    "d.close()\n",
    "d=open(\"abcde.txt\",\"r\")\n",
    "print(d.read())\n",
    "d.close()"
   ]
  },
  {
   "cell_type": "code",
   "execution_count": 24,
   "id": "dc7918ca-460e-4377-acdc-53b099e976dd",
   "metadata": {},
   "outputs": [
    {
     "name": "stdout",
     "output_type": "stream",
     "text": [
      "  hello world\n",
      "\n"
     ]
    }
   ],
   "source": [
    "#Q:74\n",
    "d=open(\"abcde.txt\",\"r\")\n",
    "print(d.readline())"
   ]
  },
  {
   "cell_type": "code",
   "execution_count": 76,
   "id": "0368ddc6-c72e-4841-be46-3cfde7aa71e8",
   "metadata": {},
   "outputs": [
    {
     "name": "stdout",
     "output_type": "stream",
     "text": [
      "List written to file successfully.\n"
     ]
    }
   ],
   "source": [
    "#Q:81\n",
    "my_list = [\"Apple\", \"Banana\", \"Cherry\", \"Mango\"]\n",
    "file_path = \"C:\\\\Users\\\\Sumit\\\\OneDrive\\\\Desktop\\\\july1.txt\"\n",
    "with open(file_path, \"w\") as file:\n",
    "    for item in my_list:\n",
    "        file.write(item + \"\\n\")\n",
    "print(\"List written to file successfully.\")"
   ]
  },
  {
   "cell_type": "code",
   "execution_count": 69,
   "id": "254d4ced-8d5f-4ecd-882a-d9c056641bd3",
   "metadata": {},
   "outputs": [
    {
     "name": "stdout",
     "output_type": "stream",
     "text": [
      "n 2: Banana\n"
     ]
    }
   ],
   "source": [
    "#Q:75\n",
    "line=2\n",
    "current_line=1\n",
    "with open(\"C:\\\\Users\\\\Sumit\\\\OneDrive\\\\Desktop\\\\july1.txt\", \"r\") as g:\n",
    "    for n in g:\n",
    "        if current_line == line:\n",
    "            print(f\"n {current_line}: {n.strip()}\")\n",
    "            break\n",
    "        current_line += 1"
   ]
  },
  {
   "cell_type": "code",
   "execution_count": 68,
   "id": "e1fc040a-389e-4321-a2e1-31722b852a0c",
   "metadata": {},
   "outputs": [
    {
     "name": "stdout",
     "output_type": "stream",
     "text": [
      "['Apple', 'Banana', 'Cherry', 'Mango']\n"
     ]
    }
   ],
   "source": [
    "#Q:76\n",
    "file_path=\"C:\\\\Users\\\\Sumit\\\\OneDrive\\\\Desktop\\\\july1.txt\"\n",
    "with open(file_path, \"r\") as file:\n",
    "    lines_list = file.readlines()\n",
    "lines_list = [line.strip() for line in lines_list]\n",
    "print(lines_list)"
   ]
  },
  {
   "cell_type": "code",
   "execution_count": 67,
   "id": "371e6830-2916-49d7-bf1e-e6e0a4808aff",
   "metadata": {},
   "outputs": [
    {
     "name": "stdout",
     "output_type": "stream",
     "text": [
      "Apple\n",
      "Banana\n",
      "Cherry\n",
      "Mango\n",
      "\n"
     ]
    }
   ],
   "source": [
    "#Q:77\n",
    "file_path = \"C:\\\\Users\\\\Sumit\\\\OneDrive\\\\Desktop\\\\july1.txt\"\n",
    "with open(file_path, \"r\") as file:\n",
    "    v = \"\"\n",
    "    for line in file:\n",
    "        v+= line  \n",
    "print(v)"
   ]
  },
  {
   "cell_type": "code",
   "execution_count": 72,
   "id": "d2facc28-dc3e-48d9-9769-85048a71bbf0",
   "metadata": {},
   "outputs": [
    {
     "name": "stdout",
     "output_type": "stream",
     "text": [
      "Banana\n",
      "Cherry\n"
     ]
    }
   ],
   "source": [
    "#Q:78\n",
    "file_path = \"C:\\\\Users\\\\Sumit\\\\OneDrive\\\\Desktop\\\\july1.txt\"\n",
    "with open(file_path, \"r\") as f:\n",
    "    words = f.read().split() \n",
    "max_len = len(max(words, key=len))\n",
    "for word in words:\n",
    "    if len(word) == max_len:\n",
    "        print(word)"
   ]
  },
  {
   "cell_type": "code",
   "execution_count": 66,
   "id": "fea8a058-53cd-443d-aedb-b47b806601de",
   "metadata": {},
   "outputs": [
    {
     "name": "stdout",
     "output_type": "stream",
     "text": [
      "Number of lines: 4\n"
     ]
    }
   ],
   "source": [
    "#Q:79\n",
    "file_path = \"C:\\\\Users\\\\Sumit\\\\OneDrive\\\\Desktop\\\\july1.txt\"\n",
    "with open(file_path, \"r\") as file:\n",
    "    lines = file.readlines()\n",
    "print(\"Number of lines:\", len(lines))"
   ]
  },
  {
   "cell_type": "code",
   "execution_count": 73,
   "id": "aba81795-175e-459b-a389-133658dced70",
   "metadata": {},
   "outputs": [
    {
     "name": "stdout",
     "output_type": "stream",
     "text": [
      "'apple',1\n",
      "'banana',1\n",
      "'cherry',1\n",
      "'mango',1\n"
     ]
    }
   ],
   "source": [
    "#Q:80\n",
    "file_path = \"C:\\\\Users\\\\Sumit\\\\OneDrive\\\\Desktop\\\\july1.txt\"\n",
    "f = {}  \n",
    "with open(file_path, \"r\") as file:\n",
    "    for line in file:\n",
    "        words = line.split()\n",
    "        for word in words:\n",
    "            word = word.lower().strip(\".,!?()[]{}\\\"'\")  \n",
    "            if word in f:\n",
    "                f[word] += 1\n",
    "            else:\n",
    "                f[word] = 1\n",
    "for k, count in f.items():\n",
    "    print(\"'{}',{}\".format(k, count))"
   ]
  },
  {
   "cell_type": "code",
   "execution_count": 77,
   "id": "f103b66e-12d4-4c7f-b140-9db4fda050a9",
   "metadata": {},
   "outputs": [
    {
     "name": "stdout",
     "output_type": "stream",
     "text": [
      "File copied successfully.\n"
     ]
    }
   ],
   "source": [
    "#Q:82\n",
    "source_file = \"C:\\\\Users\\\\Sumit\\\\OneDrive\\\\Desktop\\\\july1.txt\"\n",
    "destination_file = \"C:\\\\Users\\\\Sumit\\\\OneDrive\\\\Desktop\\\\july2.txt\"\n",
    "with open(source_file, \"r\") as src, open(destination_file, \"w\") as dest:\n",
    "    for line in src:\n",
    "        dest.write(line)\n",
    "print(\"File copied successfully.\")"
   ]
  },
  {
   "cell_type": "code",
   "execution_count": 3,
   "id": "b4882679-3e73-4a4f-9539-813e50597fab",
   "metadata": {},
   "outputs": [
    {
     "name": "stdin",
     "output_type": "stream",
     "text": [
      "Enter a number:  5\n"
     ]
    },
    {
     "name": "stdout",
     "output_type": "stream",
     "text": [
      "Result is: 2.0\n",
      "Execution finished.\n"
     ]
    }
   ],
   "source": [
    "#Q:89\n",
    "try:\n",
    "    num = int(input(\"Enter a number: \"))\n",
    "    result = 10 / num\n",
    "except ZeroDivisionError:\n",
    "    print(\"You cannot divide by zero.\")\n",
    "except ValueError:\n",
    "    print(\"Invalid input. Please enter a number.\")\n",
    "else:\n",
    "    print(\"Result is:\", result)\n",
    "finally:\n",
    "    print(\"Execution finished.\")"
   ]
  },
  {
   "cell_type": "code",
   "execution_count": 8,
   "id": "75898723-420d-4f1d-889b-eb64ec488186",
   "metadata": {},
   "outputs": [
    {
     "name": "stdin",
     "output_type": "stream",
     "text": [
      "enter your number: 3\n"
     ]
    },
    {
     "name": "stdout",
     "output_type": "stream",
     "text": [
      "You entered an odd number: 3\n",
      "execution finished.\n"
     ]
    }
   ],
   "source": [
    "#Q:90\n",
    "try:\n",
    "    number=int(input(\"enter your number:\"))\n",
    "    if number%2==0:\n",
    "        raise ValueError(\"only odd numbers are allowed.\")\n",
    "except ValueError as ve:\n",
    "    print(\"Exception:\", ve)\n",
    "else:\n",
    "    print(\"You entered an odd number:\",number)\n",
    "finally:\n",
    "    print(\"execution finished.\")\n",
    "    "
   ]
  },
  {
   "cell_type": "code",
   "execution_count": null,
   "id": "28b0f963-d6d2-49c7-854d-37083abd75e8",
   "metadata": {},
   "outputs": [],
   "source": []
  }
 ],
 "metadata": {
  "kernelspec": {
   "display_name": "Python 3 (ipykernel)",
   "language": "python",
   "name": "python3"
  },
  "language_info": {
   "codemirror_mode": {
    "name": "ipython",
    "version": 3
   },
   "file_extension": ".py",
   "mimetype": "text/x-python",
   "name": "python",
   "nbconvert_exporter": "python",
   "pygments_lexer": "ipython3",
   "version": "3.12.7"
  }
 },
 "nbformat": 4,
 "nbformat_minor": 5
}
